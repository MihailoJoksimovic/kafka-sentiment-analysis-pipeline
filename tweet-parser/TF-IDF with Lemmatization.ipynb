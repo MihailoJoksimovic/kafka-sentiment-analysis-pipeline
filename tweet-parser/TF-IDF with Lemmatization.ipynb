{
 "cells": [
  {
   "cell_type": "code",
   "execution_count": 11,
   "metadata": {},
   "outputs": [],
   "source": [
    "import json\n",
    "from elasticsearch import Elasticsearch\n",
    "import pandas as pd\n",
    "from nltk.tokenize import TweetTokenizer\n",
    "from nltk.corpus import stopwords\n",
    "import re\n",
    "%matplotlib inline\n",
    "import numpy as np\n",
    "import matplotlib.pyplot as plt\n",
    "import seaborn as sns; sns.set()\n",
    "import nltk\n",
    "from nltk.corpus import wordnet\n",
    "from nltk.stem import WordNetLemmatizer "
   ]
  },
  {
   "cell_type": "code",
   "execution_count": 7,
   "metadata": {},
   "outputs": [],
   "source": [
    "stopwords_set = set(stopwords.words('english'))\n",
    "es = Elasticsearch()\n",
    "lemmatizer = WordNetLemmatizer()"
   ]
  },
  {
   "cell_type": "code",
   "execution_count": 8,
   "metadata": {},
   "outputs": [],
   "source": [
    "def get_wordnet_pos(word):\n",
    "    \"\"\"Map POS tag to first character lemmatize() accepts\"\"\"\n",
    "    tag = nltk.pos_tag([word])[0][1][0].upper()\n",
    "    tag_dict = {\"J\": wordnet.ADJ,\n",
    "                \"N\": wordnet.NOUN,\n",
    "                \"V\": wordnet.VERB,\n",
    "                \"R\": wordnet.ADV}\n",
    "\n",
    "    return tag_dict.get(tag, wordnet.NOUN)"
   ]
  },
  {
   "cell_type": "code",
   "execution_count": 9,
   "metadata": {},
   "outputs": [],
   "source": [
    "def cleanup_tweet(text):\n",
    "    tknzr = TweetTokenizer()\n",
    "    \n",
    "    text = text.lower()\n",
    "    \n",
    "    tokens = tknzr.tokenize(text)\n",
    "    clean_tokens = []\n",
    "    \n",
    "    for token in tokens:\n",
    "        # Skip hashtags\n",
    "        if token[0] == \"#\":\n",
    "            continue\n",
    "            \n",
    "        # Some words end with \":\" or \"!\" are treated as non words. I'd like to include those actually.\n",
    "        # An example is: \"very happy!\". Basically, it's a valid ngram, but sign at the end of word\n",
    "        # results in it being treated as invalid word\n",
    "        token = re.sub(r'[!:,]$', '', token)\n",
    "        \n",
    "        # Doesnt start with letter? Not a word, IMO\n",
    "        if not re.match(\"^[a-zA-Z]+\", token):\n",
    "            continue\n",
    "            \n",
    "        # Link? Skip it!\n",
    "        if re.match(\"^http[s]:\\/\\/\", token):\n",
    "            continue\n",
    "            \n",
    "        # Skip stopwords\n",
    "        if token in stopwords_set:\n",
    "            continue\n",
    "            \n",
    "        # Lemmatize the word\n",
    "        token = lemmatizer.lemmatize(token, get_wordnet_pos(token))\n",
    "\n",
    "        clean_tokens.append(token)\n",
    "        \n",
    "    return \" \".join(clean_tokens)"
   ]
  },
  {
   "cell_type": "code",
   "execution_count": 14,
   "metadata": {},
   "outputs": [
    {
     "data": {
      "text/plain": [
       "'excite today day cant believe'"
      ]
     },
     "execution_count": 14,
     "metadata": {},
     "output_type": "execute_result"
    }
   ],
   "source": [
    "cleanup_tweet(\"I am so excited about todays day that I cant believe it!\")"
   ]
  },
  {
   "cell_type": "code",
   "execution_count": 15,
   "metadata": {},
   "outputs": [],
   "source": [
    "emotions_to_parse = [\"happy\", \"sad\"]\n",
    "\n",
    "data = []\n",
    "\n",
    "for emotion in emotions_to_parse:\n",
    "    tweets = es.search(index=\"fetched_tweets\", body={\"query\": {\"match\": { \"full_text\": \"#\" + emotion }}, \"size\": 10000})\n",
    "\n",
    "    for msg in tweets['hits']['hits']:\n",
    "        full_msg_text = None\n",
    "\n",
    "        # Skip retweeted tweets\n",
    "        if \"retweeted_status\" in msg['_source']:\n",
    "            continue\n",
    "\n",
    "        data.append({\n",
    "            'tweet_id': msg['_id'],\n",
    "            'full_text': msg['_source']['full_text'],\n",
    "            'emotion': emotion\n",
    "        })"
   ]
  },
  {
   "cell_type": "code",
   "execution_count": 17,
   "metadata": {},
   "outputs": [],
   "source": [
    "data_df = pd.DataFrame(data)\n",
    "data_df.set_index('tweet_id', inplace=True)\n",
    "data_df['clean_text'] = data_df['full_text'].apply(cleanup_tweet)\n",
    "deduplicated_df = data_df.loc[~data_df.index.duplicated(keep=False)]"
   ]
  },
  {
   "cell_type": "code",
   "execution_count": 19,
   "metadata": {},
   "outputs": [],
   "source": [
    "tokens_list = []\n",
    "\n",
    "for tweet_id, clean_text in deduplicated_df.clean_text.iteritems():\n",
    "    for token in clean_text.split():\n",
    "        \n",
    "        tokens_list.append([\n",
    "            tweet_id, \n",
    "            token, \n",
    "            data_df.loc[tweet_id].emotion,\n",
    "            data_df.loc[tweet_id].clean_text,\n",
    "            data_df.loc[tweet_id].full_text\n",
    "        ])\n",
    "\n",
    "tokens_df = pd.DataFrame(data=tokens_list, columns=['tweet_id', 'token', 'emotion', 'clean_text', 'full_text'])"
   ]
  },
  {
   "cell_type": "code",
   "execution_count": 21,
   "metadata": {},
   "outputs": [
    {
     "data": {
      "text/html": [
       "<div>\n",
       "<style scoped>\n",
       "    .dataframe tbody tr th:only-of-type {\n",
       "        vertical-align: middle;\n",
       "    }\n",
       "\n",
       "    .dataframe tbody tr th {\n",
       "        vertical-align: top;\n",
       "    }\n",
       "\n",
       "    .dataframe thead th {\n",
       "        text-align: right;\n",
       "    }\n",
       "</style>\n",
       "<table border=\"1\" class=\"dataframe\">\n",
       "  <thead>\n",
       "    <tr style=\"text-align: right;\">\n",
       "      <th></th>\n",
       "      <th>tweet_id</th>\n",
       "      <th>token</th>\n",
       "      <th>clean_text</th>\n",
       "      <th>full_text</th>\n",
       "    </tr>\n",
       "    <tr>\n",
       "      <th>emotion</th>\n",
       "      <th></th>\n",
       "      <th></th>\n",
       "      <th></th>\n",
       "      <th></th>\n",
       "    </tr>\n",
       "  </thead>\n",
       "  <tbody>\n",
       "    <tr>\n",
       "      <th>happy</th>\n",
       "      <td>8584</td>\n",
       "      <td>8584</td>\n",
       "      <td>8584</td>\n",
       "      <td>8584</td>\n",
       "    </tr>\n",
       "    <tr>\n",
       "      <th>sad</th>\n",
       "      <td>27756</td>\n",
       "      <td>27756</td>\n",
       "      <td>27756</td>\n",
       "      <td>27756</td>\n",
       "    </tr>\n",
       "  </tbody>\n",
       "</table>\n",
       "</div>"
      ],
      "text/plain": [
       "         tweet_id  token  clean_text  full_text\n",
       "emotion                                        \n",
       "happy        8584   8584        8584       8584\n",
       "sad         27756  27756       27756      27756"
      ]
     },
     "execution_count": 21,
     "metadata": {},
     "output_type": "execute_result"
    }
   ],
   "source": [
    "total_word_counts = tokens_df.groupby('emotion').count()\n",
    "total_word_counts"
   ]
  },
  {
   "cell_type": "code",
   "execution_count": 22,
   "metadata": {},
   "outputs": [],
   "source": [
    "tokens_df['total_words'] = tokens_df['emotion'].apply(lambda x: total_word_counts.loc[x]['tweet_id'])"
   ]
  },
  {
   "cell_type": "code",
   "execution_count": 23,
   "metadata": {},
   "outputs": [],
   "source": [
    "word_counts = tokens_df.groupby(['emotion', 'token'])['tweet_id'].count()\n"
   ]
  },
  {
   "cell_type": "code",
   "execution_count": 24,
   "metadata": {},
   "outputs": [],
   "source": [
    "def get_occurences_of_word_in_emotion(word, emotion):\n",
    "    try:\n",
    "        cnt = word_counts.loc[emotion].loc[word]\n",
    "    except:\n",
    "        cnt = 0\n",
    "    return cnt"
   ]
  },
  {
   "cell_type": "code",
   "execution_count": 25,
   "metadata": {},
   "outputs": [],
   "source": [
    "tokens_df['n'] = tokens_df.apply(lambda x: get_occurences_of_word_in_emotion(x['token'], x['emotion']), 1)"
   ]
  },
  {
   "cell_type": "code",
   "execution_count": 26,
   "metadata": {},
   "outputs": [
    {
     "data": {
      "text/html": [
       "<div>\n",
       "<style scoped>\n",
       "    .dataframe tbody tr th:only-of-type {\n",
       "        vertical-align: middle;\n",
       "    }\n",
       "\n",
       "    .dataframe tbody tr th {\n",
       "        vertical-align: top;\n",
       "    }\n",
       "\n",
       "    .dataframe thead th {\n",
       "        text-align: right;\n",
       "    }\n",
       "</style>\n",
       "<table border=\"1\" class=\"dataframe\">\n",
       "  <thead>\n",
       "    <tr style=\"text-align: right;\">\n",
       "      <th></th>\n",
       "      <th>emotion</th>\n",
       "      <th>token</th>\n",
       "      <th>n</th>\n",
       "      <th>total_words</th>\n",
       "    </tr>\n",
       "  </thead>\n",
       "  <tbody>\n",
       "    <tr>\n",
       "      <th>0</th>\n",
       "      <td>happy</td>\n",
       "      <td>happy</td>\n",
       "      <td>127</td>\n",
       "      <td>8584</td>\n",
       "    </tr>\n",
       "    <tr>\n",
       "      <th>1</th>\n",
       "      <td>happy</td>\n",
       "      <td>kid</td>\n",
       "      <td>4</td>\n",
       "      <td>8584</td>\n",
       "    </tr>\n",
       "    <tr>\n",
       "      <th>2</th>\n",
       "      <td>happy</td>\n",
       "      <td>happy</td>\n",
       "      <td>127</td>\n",
       "      <td>8584</td>\n",
       "    </tr>\n",
       "    <tr>\n",
       "      <th>3</th>\n",
       "      <td>happy</td>\n",
       "      <td>thursday</td>\n",
       "      <td>26</td>\n",
       "      <td>8584</td>\n",
       "    </tr>\n",
       "    <tr>\n",
       "      <th>4</th>\n",
       "      <td>happy</td>\n",
       "      <td>look</td>\n",
       "      <td>33</td>\n",
       "      <td>8584</td>\n",
       "    </tr>\n",
       "    <tr>\n",
       "      <th>5</th>\n",
       "      <td>happy</td>\n",
       "      <td>comfy</td>\n",
       "      <td>1</td>\n",
       "      <td>8584</td>\n",
       "    </tr>\n",
       "    <tr>\n",
       "      <th>6</th>\n",
       "      <td>happy</td>\n",
       "      <td>happy</td>\n",
       "      <td>127</td>\n",
       "      <td>8584</td>\n",
       "    </tr>\n",
       "    <tr>\n",
       "      <th>7</th>\n",
       "      <td>happy</td>\n",
       "      <td>kev's</td>\n",
       "      <td>1</td>\n",
       "      <td>8584</td>\n",
       "    </tr>\n",
       "    <tr>\n",
       "      <th>8</th>\n",
       "      <td>happy</td>\n",
       "      <td>dad</td>\n",
       "      <td>3</td>\n",
       "      <td>8584</td>\n",
       "    </tr>\n",
       "    <tr>\n",
       "      <th>9</th>\n",
       "      <td>happy</td>\n",
       "      <td>happy</td>\n",
       "      <td>127</td>\n",
       "      <td>8584</td>\n",
       "    </tr>\n",
       "    <tr>\n",
       "      <th>10</th>\n",
       "      <td>happy</td>\n",
       "      <td>new</td>\n",
       "      <td>44</td>\n",
       "      <td>8584</td>\n",
       "    </tr>\n",
       "    <tr>\n",
       "      <th>11</th>\n",
       "      <td>happy</td>\n",
       "      <td>year</td>\n",
       "      <td>30</td>\n",
       "      <td>8584</td>\n",
       "    </tr>\n",
       "    <tr>\n",
       "      <th>12</th>\n",
       "      <td>happy</td>\n",
       "      <td>quote</td>\n",
       "      <td>6</td>\n",
       "      <td>8584</td>\n",
       "    </tr>\n",
       "    <tr>\n",
       "      <th>13</th>\n",
       "      <td>happy</td>\n",
       "      <td>new</td>\n",
       "      <td>44</td>\n",
       "      <td>8584</td>\n",
       "    </tr>\n",
       "    <tr>\n",
       "      <th>14</th>\n",
       "      <td>happy</td>\n",
       "      <td>year</td>\n",
       "      <td>30</td>\n",
       "      <td>8584</td>\n",
       "    </tr>\n",
       "    <tr>\n",
       "      <th>15</th>\n",
       "      <td>happy</td>\n",
       "      <td>image</td>\n",
       "      <td>1</td>\n",
       "      <td>8584</td>\n",
       "    </tr>\n",
       "    <tr>\n",
       "      <th>16</th>\n",
       "      <td>happy</td>\n",
       "      <td>new</td>\n",
       "      <td>44</td>\n",
       "      <td>8584</td>\n",
       "    </tr>\n",
       "    <tr>\n",
       "      <th>17</th>\n",
       "      <td>happy</td>\n",
       "      <td>year</td>\n",
       "      <td>30</td>\n",
       "      <td>8584</td>\n",
       "    </tr>\n",
       "    <tr>\n",
       "      <th>18</th>\n",
       "      <td>happy</td>\n",
       "      <td>wish</td>\n",
       "      <td>24</td>\n",
       "      <td>8584</td>\n",
       "    </tr>\n",
       "    <tr>\n",
       "      <th>19</th>\n",
       "      <td>happy</td>\n",
       "      <td>new</td>\n",
       "      <td>44</td>\n",
       "      <td>8584</td>\n",
       "    </tr>\n",
       "  </tbody>\n",
       "</table>\n",
       "</div>"
      ],
      "text/plain": [
       "   emotion     token    n  total_words\n",
       "0    happy     happy  127         8584\n",
       "1    happy       kid    4         8584\n",
       "2    happy     happy  127         8584\n",
       "3    happy  thursday   26         8584\n",
       "4    happy      look   33         8584\n",
       "5    happy     comfy    1         8584\n",
       "6    happy     happy  127         8584\n",
       "7    happy     kev's    1         8584\n",
       "8    happy       dad    3         8584\n",
       "9    happy     happy  127         8584\n",
       "10   happy       new   44         8584\n",
       "11   happy      year   30         8584\n",
       "12   happy     quote    6         8584\n",
       "13   happy       new   44         8584\n",
       "14   happy      year   30         8584\n",
       "15   happy     image    1         8584\n",
       "16   happy       new   44         8584\n",
       "17   happy      year   30         8584\n",
       "18   happy      wish   24         8584\n",
       "19   happy       new   44         8584"
      ]
     },
     "execution_count": 26,
     "metadata": {},
     "output_type": "execute_result"
    }
   ],
   "source": [
    "tokens_df[['emotion', 'token', 'n', 'total_words']].head(20)"
   ]
  },
  {
   "cell_type": "code",
   "execution_count": 28,
   "metadata": {},
   "outputs": [],
   "source": [
    "tokens_df['term_frequency'] = tokens_df['n'] / tokens_df['total_words']\n",
    "tokens_df.drop_duplicates('token', inplace=True)"
   ]
  },
  {
   "cell_type": "code",
   "execution_count": 29,
   "metadata": {},
   "outputs": [
    {
     "data": {
      "text/html": [
       "<div>\n",
       "<style scoped>\n",
       "    .dataframe tbody tr th:only-of-type {\n",
       "        vertical-align: middle;\n",
       "    }\n",
       "\n",
       "    .dataframe tbody tr th {\n",
       "        vertical-align: top;\n",
       "    }\n",
       "\n",
       "    .dataframe thead th {\n",
       "        text-align: right;\n",
       "    }\n",
       "</style>\n",
       "<table border=\"1\" class=\"dataframe\">\n",
       "  <thead>\n",
       "    <tr style=\"text-align: right;\">\n",
       "      <th></th>\n",
       "      <th>emotion</th>\n",
       "      <th>token</th>\n",
       "      <th>n</th>\n",
       "      <th>total_words</th>\n",
       "      <th>term_frequency</th>\n",
       "    </tr>\n",
       "  </thead>\n",
       "  <tbody>\n",
       "    <tr>\n",
       "      <th>0</th>\n",
       "      <td>happy</td>\n",
       "      <td>happy</td>\n",
       "      <td>127</td>\n",
       "      <td>8584</td>\n",
       "      <td>0.014795</td>\n",
       "    </tr>\n",
       "    <tr>\n",
       "      <th>1</th>\n",
       "      <td>happy</td>\n",
       "      <td>kid</td>\n",
       "      <td>4</td>\n",
       "      <td>8584</td>\n",
       "      <td>0.000466</td>\n",
       "    </tr>\n",
       "    <tr>\n",
       "      <th>3</th>\n",
       "      <td>happy</td>\n",
       "      <td>thursday</td>\n",
       "      <td>26</td>\n",
       "      <td>8584</td>\n",
       "      <td>0.003029</td>\n",
       "    </tr>\n",
       "    <tr>\n",
       "      <th>4</th>\n",
       "      <td>happy</td>\n",
       "      <td>look</td>\n",
       "      <td>33</td>\n",
       "      <td>8584</td>\n",
       "      <td>0.003844</td>\n",
       "    </tr>\n",
       "    <tr>\n",
       "      <th>5</th>\n",
       "      <td>happy</td>\n",
       "      <td>comfy</td>\n",
       "      <td>1</td>\n",
       "      <td>8584</td>\n",
       "      <td>0.000116</td>\n",
       "    </tr>\n",
       "    <tr>\n",
       "      <th>7</th>\n",
       "      <td>happy</td>\n",
       "      <td>kev's</td>\n",
       "      <td>1</td>\n",
       "      <td>8584</td>\n",
       "      <td>0.000116</td>\n",
       "    </tr>\n",
       "    <tr>\n",
       "      <th>8</th>\n",
       "      <td>happy</td>\n",
       "      <td>dad</td>\n",
       "      <td>3</td>\n",
       "      <td>8584</td>\n",
       "      <td>0.000349</td>\n",
       "    </tr>\n",
       "    <tr>\n",
       "      <th>10</th>\n",
       "      <td>happy</td>\n",
       "      <td>new</td>\n",
       "      <td>44</td>\n",
       "      <td>8584</td>\n",
       "      <td>0.005126</td>\n",
       "    </tr>\n",
       "    <tr>\n",
       "      <th>11</th>\n",
       "      <td>happy</td>\n",
       "      <td>year</td>\n",
       "      <td>30</td>\n",
       "      <td>8584</td>\n",
       "      <td>0.003495</td>\n",
       "    </tr>\n",
       "    <tr>\n",
       "      <th>12</th>\n",
       "      <td>happy</td>\n",
       "      <td>quote</td>\n",
       "      <td>6</td>\n",
       "      <td>8584</td>\n",
       "      <td>0.000699</td>\n",
       "    </tr>\n",
       "    <tr>\n",
       "      <th>15</th>\n",
       "      <td>happy</td>\n",
       "      <td>image</td>\n",
       "      <td>1</td>\n",
       "      <td>8584</td>\n",
       "      <td>0.000116</td>\n",
       "    </tr>\n",
       "    <tr>\n",
       "      <th>18</th>\n",
       "      <td>happy</td>\n",
       "      <td>wish</td>\n",
       "      <td>24</td>\n",
       "      <td>8584</td>\n",
       "      <td>0.002796</td>\n",
       "    </tr>\n",
       "    <tr>\n",
       "      <th>21</th>\n",
       "      <td>happy</td>\n",
       "      <td>without</td>\n",
       "      <td>6</td>\n",
       "      <td>8584</td>\n",
       "      <td>0.000699</td>\n",
       "    </tr>\n",
       "    <tr>\n",
       "      <th>23</th>\n",
       "      <td>happy</td>\n",
       "      <td>hope</td>\n",
       "      <td>16</td>\n",
       "      <td>8584</td>\n",
       "      <td>0.001864</td>\n",
       "    </tr>\n",
       "    <tr>\n",
       "      <th>25</th>\n",
       "      <td>happy</td>\n",
       "      <td>watch</td>\n",
       "      <td>24</td>\n",
       "      <td>8584</td>\n",
       "      <td>0.002796</td>\n",
       "    </tr>\n",
       "    <tr>\n",
       "      <th>26</th>\n",
       "      <td>happy</td>\n",
       "      <td>far</td>\n",
       "      <td>3</td>\n",
       "      <td>8584</td>\n",
       "      <td>0.000349</td>\n",
       "    </tr>\n",
       "    <tr>\n",
       "      <th>27</th>\n",
       "      <td>happy</td>\n",
       "      <td>away</td>\n",
       "      <td>5</td>\n",
       "      <td>8584</td>\n",
       "      <td>0.000582</td>\n",
       "    </tr>\n",
       "    <tr>\n",
       "      <th>32</th>\n",
       "      <td>happy</td>\n",
       "      <td>push</td>\n",
       "      <td>2</td>\n",
       "      <td>8584</td>\n",
       "      <td>0.000233</td>\n",
       "    </tr>\n",
       "    <tr>\n",
       "      <th>33</th>\n",
       "      <td>happy</td>\n",
       "      <td>back</td>\n",
       "      <td>26</td>\n",
       "      <td>8584</td>\n",
       "      <td>0.003029</td>\n",
       "    </tr>\n",
       "    <tr>\n",
       "      <th>34</th>\n",
       "      <td>happy</td>\n",
       "      <td>memory</td>\n",
       "      <td>7</td>\n",
       "      <td>8584</td>\n",
       "      <td>0.000815</td>\n",
       "    </tr>\n",
       "  </tbody>\n",
       "</table>\n",
       "</div>"
      ],
      "text/plain": [
       "   emotion     token    n  total_words  term_frequency\n",
       "0    happy     happy  127         8584        0.014795\n",
       "1    happy       kid    4         8584        0.000466\n",
       "3    happy  thursday   26         8584        0.003029\n",
       "4    happy      look   33         8584        0.003844\n",
       "5    happy     comfy    1         8584        0.000116\n",
       "7    happy     kev's    1         8584        0.000116\n",
       "8    happy       dad    3         8584        0.000349\n",
       "10   happy       new   44         8584        0.005126\n",
       "11   happy      year   30         8584        0.003495\n",
       "12   happy     quote    6         8584        0.000699\n",
       "15   happy     image    1         8584        0.000116\n",
       "18   happy      wish   24         8584        0.002796\n",
       "21   happy   without    6         8584        0.000699\n",
       "23   happy      hope   16         8584        0.001864\n",
       "25   happy     watch   24         8584        0.002796\n",
       "26   happy       far    3         8584        0.000349\n",
       "27   happy      away    5         8584        0.000582\n",
       "32   happy      push    2         8584        0.000233\n",
       "33   happy      back   26         8584        0.003029\n",
       "34   happy    memory    7         8584        0.000815"
      ]
     },
     "execution_count": 29,
     "metadata": {},
     "output_type": "execute_result"
    }
   ],
   "source": [
    "tokens_df[['emotion', 'token', 'n', 'total_words', 'term_frequency']].head(20)"
   ]
  },
  {
   "cell_type": "code",
   "execution_count": 30,
   "metadata": {},
   "outputs": [],
   "source": [
    "import math"
   ]
  },
  {
   "cell_type": "code",
   "execution_count": 31,
   "metadata": {},
   "outputs": [],
   "source": [
    "def get_idf_for_word(word):\n",
    "    N = 2 # We are working with two emotions, so ...\n",
    "    \n",
    "    occurences = tokens_df[tokens_df['token'] == word]['token'].count()\n",
    "    \n",
    "    return math.log10(N / occurences)\n",
    "    "
   ]
  },
  {
   "cell_type": "code",
   "execution_count": 32,
   "metadata": {},
   "outputs": [
    {
     "data": {
      "text/plain": [
       "0.3010299956639812"
      ]
     },
     "execution_count": 32,
     "metadata": {},
     "output_type": "execute_result"
    }
   ],
   "source": [
    "get_idf_for_word('year')"
   ]
  },
  {
   "cell_type": "code",
   "execution_count": 33,
   "metadata": {},
   "outputs": [],
   "source": [
    "tokens_df['idf'] = tokens_df['token'].apply(lambda x: get_idf_for_word(x))"
   ]
  },
  {
   "cell_type": "code",
   "execution_count": 34,
   "metadata": {},
   "outputs": [],
   "source": [
    "tokens_df['tf_idf'] = tokens_df['term_frequency'] * tokens_df['idf']"
   ]
  },
  {
   "cell_type": "code",
   "execution_count": 35,
   "metadata": {},
   "outputs": [],
   "source": [
    "happy_emotion_token_data = tokens_df[tokens_df['emotion'] == 'happy'][['token', 'term_frequency', 'idf', 'tf_idf']].sort_values(by='tf_idf', ascending=False)\n",
    "sad_emotion_token_data = tokens_df[tokens_df['emotion'] == 'sad'][['token', 'term_frequency', 'idf', 'tf_idf']].sort_values(by='tf_idf', ascending=False)\n"
   ]
  },
  {
   "cell_type": "code",
   "execution_count": 36,
   "metadata": {},
   "outputs": [],
   "source": [
    "from sklearn.naive_bayes import MultinomialNB\n",
    "from sklearn.model_selection import train_test_split\n",
    "from sklearn.metrics import accuracy_score"
   ]
  },
  {
   "cell_type": "code",
   "execution_count": 37,
   "metadata": {},
   "outputs": [],
   "source": [
    "X = deduplicated_df.full_text.values\n",
    "y = deduplicated_df.emotion.values\n",
    "X_train, X_test, y_train, y_test = train_test_split(X, y)"
   ]
  },
  {
   "cell_type": "code",
   "execution_count": 38,
   "metadata": {},
   "outputs": [],
   "source": [
    "def get_feature_tokens(num_features):\n",
    "    \"\"\"Returns number of feature words times 2\n",
    "    \n",
    "    e.g. if you pass \"3\" as num_features, it will return top 3 tokens\n",
    "    from \"happy\" dataset and top 3 from \"sad\" dataset, producing total\n",
    "    of 6 features.\n",
    "    \"\"\"\n",
    "    \n",
    "    return np.append(happy_emotion_token_data.token.head(num_features).values, sad_emotion_token_data.token.head(num_features).values)"
   ]
  },
  {
   "cell_type": "code",
   "execution_count": 39,
   "metadata": {},
   "outputs": [
    {
     "data": {
      "text/plain": [
       "array(['happy', 'make', 'day', 'trump', 'president', 'sad'], dtype=object)"
      ]
     },
     "execution_count": 39,
     "metadata": {},
     "output_type": "execute_result"
    }
   ],
   "source": [
    "get_feature_tokens(3)"
   ]
  },
  {
   "cell_type": "code",
   "execution_count": 40,
   "metadata": {},
   "outputs": [],
   "source": [
    "def vectorize_tweet_using_feature_array(raw_tweet, features_array):\n",
    "    clean_tweet = cleanup_tweet(raw_tweet)\n",
    "    \n",
    "    vector = {word: 0 for word in features_array}\n",
    "    \n",
    "    for token in clean_tweet.split():\n",
    "        if token not in vector:\n",
    "            continue\n",
    "            \n",
    "        vector[token] += 1\n",
    "        \n",
    "    return vector"
   ]
  },
  {
   "cell_type": "code",
   "execution_count": 45,
   "metadata": {},
   "outputs": [
    {
     "name": "stdout",
     "output_type": "stream",
     "text": [
      "10\n",
      "11\n",
      "12\n",
      "13\n",
      "14\n",
      "15\n",
      "16\n",
      "17\n",
      "18\n",
      "19\n",
      "20\n",
      "21\n",
      "22\n",
      "23\n",
      "24\n",
      "25\n",
      "26\n",
      "27\n",
      "28\n",
      "29\n",
      "30\n",
      "31\n",
      "32\n",
      "33\n",
      "34\n",
      "35\n",
      "36\n",
      "37\n",
      "38\n",
      "39\n",
      "40\n",
      "41\n",
      "42\n",
      "43\n",
      "44\n",
      "45\n",
      "46\n",
      "47\n",
      "48\n",
      "49\n",
      "50\n",
      "51\n",
      "52\n",
      "53\n",
      "54\n",
      "55\n",
      "56\n",
      "57\n",
      "58\n",
      "59\n",
      "60\n",
      "61\n",
      "62\n",
      "63\n",
      "64\n",
      "65\n",
      "66\n",
      "67\n",
      "68\n",
      "69\n",
      "70\n",
      "71\n",
      "72\n",
      "73\n",
      "74\n",
      "75\n",
      "76\n",
      "77\n",
      "78\n",
      "79\n",
      "80\n",
      "81\n",
      "82\n",
      "83\n",
      "84\n",
      "85\n",
      "86\n",
      "87\n",
      "88\n",
      "89\n",
      "90\n",
      "91\n",
      "92\n",
      "93\n",
      "94\n",
      "95\n",
      "96\n",
      "97\n",
      "98\n",
      "99\n"
     ]
    }
   ],
   "source": [
    "# Let's see how increasing number of features affects the outcome\n",
    "\n",
    "scores = []\n",
    "\n",
    "for num_features in range(10, 100):\n",
    "    feature_tokens = get_feature_tokens(num_features) # Get features (tokens) to use as vectors\n",
    "    \n",
    "    train_vectors = [vectorize_tweet_using_feature_array(tweet, feature_tokens) for tweet in X_train]\n",
    "    test_vectors = [vectorize_tweet_using_feature_array(tweet, feature_tokens) for tweet in X_test]\n",
    "    \n",
    "    train_df = pd.DataFrame(data=train_vectors, columns=feature_tokens)\n",
    "    test_df = pd.DataFrame(data=test_vectors, columns=feature_tokens)\n",
    "    \n",
    "    model = MultinomialNB()\n",
    "    model.fit(train_df, y_train)\n",
    "    \n",
    "    y_train_predicted = model.predict(train_df)\n",
    "    y_pred = model.predict(test_df)\n",
    "    \n",
    "    accuracy_score_train_data = accuracy_score(y_train, y_train_predicted)\n",
    "    accuracy_score_test_data = accuracy_score(y_test, y_pred)\n",
    "    \n",
    "    print(num_features)\n",
    "\n",
    "    scores.append([num_features, accuracy_score_train_data, accuracy_score_test_data])"
   ]
  },
  {
   "cell_type": "code",
   "execution_count": 46,
   "metadata": {},
   "outputs": [],
   "source": [
    "scores_nparray = np.array(scores)"
   ]
  },
  {
   "cell_type": "code",
   "execution_count": 48,
   "metadata": {},
   "outputs": [
    {
     "data": {
      "text/plain": [
       "<matplotlib.legend.Legend at 0x1a2e1cc898>"
      ]
     },
     "execution_count": 48,
     "metadata": {},
     "output_type": "execute_result"
    },
    {
     "data": {
      "image/png": "[encoded data removed]",
      "text/plain": [
       "<Figure size 842.4x595.44 with 1 Axes>"
      ]
     },
     "metadata": {},
     "output_type": "display_data"
    }
   ],
   "source": [
    "sns.set_style('ticks')\n",
    "fig, ax = plt.subplots()\n",
    "# the size of A4 paper\n",
    "fig.set_size_inches(11.7, 8.27)\n",
    "plt.plot(scores_nparray[:, 0], scores_nparray[:, 1], label=\"Train Score\")\n",
    "plt.plot(scores_nparray[:, 0], scores_nparray[:, 2], label=\"Test Score\")\n",
    "plt.xlabel('Number of features (x2)')\n",
    "plt.ylabel('Accuracy');\n",
    "ax.legend()"
   ]
  },
  {
   "cell_type": "code",
   "execution_count": 49,
   "metadata": {},
   "outputs": [
    {
     "data": {
      "text/plain": [
       "0.763671875"
      ]
     },
     "execution_count": 49,
     "metadata": {},
     "output_type": "execute_result"
    }
   ],
   "source": [
    "np.amax(scores_nparray[:, 2])"
   ]
  },
  {
   "cell_type": "code",
   "execution_count": 50,
   "metadata": {},
   "outputs": [
    {
     "data": {
      "text/plain": [
       "(array([89]),)"
      ]
     },
     "execution_count": 50,
     "metadata": {},
     "output_type": "execute_result"
    }
   ],
   "source": [
    "np.where(scores_nparray[:, 2] == max(scores_nparray[:, 2]))"
   ]
  },
  {
   "cell_type": "code",
   "execution_count": 53,
   "metadata": {},
   "outputs": [],
   "source": [
    "import pickle"
   ]
  },
  {
   "cell_type": "code",
   "execution_count": 55,
   "metadata": {},
   "outputs": [],
   "source": [
    "import pickle\n",
    "\n",
    "output = open('lemmatization_scores.pkl', 'wb')\n",
    "\n",
    "# Pickle dictionary using protocol 0.\n",
    "pickle.dump(scores_nparray, output)\n",
    "\n",
    "output.close()"
   ]
  },
  {
   "cell_type": "code",
   "execution_count": null,
   "metadata": {},
   "outputs": [],
   "source": []
  }
 ],
 "metadata": {
  "kernelspec": {
   "display_name": "Python 3",
   "language": "python",
   "name": "python3"
  },
  "language_info": {
   "codemirror_mode": {
    "name": "ipython",
    "version": 3
   },
   "file_extension": ".py",
   "mimetype": "text/x-python",
   "name": "python",
   "nbconvert_exporter": "python",
   "pygments_lexer": "ipython3",
   "version": "3.6.8"
  }
 },
 "nbformat": 4,
 "nbformat_minor": 2
}
